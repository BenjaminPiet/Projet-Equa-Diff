{
 "cells": [
  {
   "cell_type": "raw",
   "metadata": {},
   "source": [
    "Voici notre projet math_info du chapitre Equations différentielles II.\n",
    "\n",
    "On commence tout d'abord par définir la methode euler explicite"
   ]
  },
  {
   "cell_type": "code",
   "execution_count": 1,
   "metadata": {},
   "outputs": [],
   "source": [
    "import numpy as np\n",
    "import matplotlib.pyplot as plt"
   ]
  },
  {
   "cell_type": "code",
   "execution_count": 2,
   "metadata": {},
   "outputs": [],
   "source": [
    "def solve_euler_explicit_v1(f,t0,tf,x0,dt):#t0 et tf temps de début et de fin de la simulation\n",
    "    X=x0#initialisation\n",
    "    t=t0\n",
    "    x_arr=[X]\n",
    "    t_arr=[t]#espace de stockage\n",
    "    while t<tf:\n",
    "        X=X+dt*f(X,t)\n",
    "        t=t+dt\n",
    "        x_arr.append(X)\n",
    "        t_arr.append(t)\n",
    "        return np.array(t_arr), np.array(x_arr)\n",
    "    \n",
    "    \n"
   ]
  },
  {
   "cell_type": "code",
   "execution_count": null,
   "metadata": {},
   "outputs": [],
   "source": [
    "def solve_euler_explicit_v2(f,x0,dt,n) :\n",
    "    \"\"\"\n",
    "    Entrées :\n",
    "        f, une fonction\n",
    "        x0, condition initiale (x(0)=x0)\n",
    "        dt, pas de temps\n",
    "        n, nombre de points\n",
    "    Sortie :\n",
    "    renvoie le vecteur des temps tj et de la solution xj du schéma d'Euler explicite appliqué à dx/dt = f(x)\n",
    "    \"\"\"\n",
    "    T = np.linspace(0,dt*(n-1), n)\n",
    "    X = np.zeros(n)\n",
    "    X[0]=x0\n",
    "    for j in range(1,n) :\n",
    "        X[j] = X[j-1] + dt*f(X[j-1])\n",
    "    return(T,X)"
   ]
  },
  {
   "cell_type": "code",
   "execution_count": null,
   "metadata": {},
   "outputs": [],
   "source": [
    "def solve_heun_explicit (f,x0,dt,n) :\n",
    "    \"\"\"\n",
    "    Entrées :\n",
    "        f, une fonction\n",
    "        x0, condition initiale (x(0)=x0)\n",
    "        dt, pas de temps\n",
    "        n, nombre de points\n",
    "    Sortie :\n",
    "    renvoie le vecteur des temps tj et de la solution xj du schéma de Heun explicite appliqué à dx/dt = f(x)\n",
    "    \"\"\"\n",
    "    T = np.linspace(0,dt*(n-1), n)\n",
    "    X = np.zeros(n)\n",
    "    X[0]=x0\n",
    "    for j in range(1,n) :\n",
    "        X[j] = X[j-1] + (dt/2) * ( f(X[j-1]) + f( X[j-1] + dt*f(X[j-1]) ) )\n",
    "    return(T,X)"
   ]
  },
  {
   "cell_type": "code",
   "execution_count": null,
   "metadata": {},
   "outputs": [],
   "source": []
  }
 ],
 "metadata": {
  "kernelspec": {
   "display_name": "Python 3",
   "language": "python",
   "name": "python3"
  },
  "language_info": {
   "codemirror_mode": {
    "name": "ipython",
    "version": 3
   },
   "file_extension": ".py",
   "mimetype": "text/x-python",
   "name": "python",
   "nbconvert_exporter": "python",
   "pygments_lexer": "ipython3",
   "version": "3.7.3"
  }
 },
 "nbformat": 4,
 "nbformat_minor": 2
}
