{
 "cells": [
  {
   "cell_type": "raw",
   "metadata": {},
   "source": [
    "Voici notre projet math_info du chapitre Equations différentielles II.\n",
    "\n",
    "On commence tout d'abord par définir la methode euler explicite"
   ]
  },
  {
   "cell_type": "code",
   "execution_count": 1,
   "metadata": {},
   "outputs": [],
   "source": [
    "import numpy as np\n",
    "import matplotlib.pyplot as plt"
   ]
  },
  {
   "cell_type": "code",
   "execution_count": 2,
   "metadata": {},
   "outputs": [],
   "source": [
    "def solve_euler_explicit(f,t0,tf,x0,dt):#t0 et tf temps de début et de fin de la simulation\n",
    "    X=x0#initialisation\n",
    "    t=t0\n",
    "    x_arr=[X]\n",
    "    t_arr=[t]#espace de stockage\n",
    "    while t<tf:\n",
    "        X=X+dt*f(X,t)\n",
    "        t=t+dt\n",
    "        x_arr.append(X)\n",
    "        t_arr.append(t)\n",
    "        return np.array(t_arr), np.array(x_arr)\n",
    "    \n",
    "    \n"
   ]
  }
 ],
 "metadata": {
  "kernelspec": {
   "display_name": "Python 3",
   "language": "python",
   "name": "python3"
  },
  "language_info": {
   "codemirror_mode": {
    "name": "ipython",
    "version": 3
   },
   "file_extension": ".py",
   "mimetype": "text/x-python",
   "name": "python",
   "nbconvert_exporter": "python",
   "pygments_lexer": "ipython3",
   "version": "3.7.3"
  }
 },
 "nbformat": 4,
 "nbformat_minor": 2
}
