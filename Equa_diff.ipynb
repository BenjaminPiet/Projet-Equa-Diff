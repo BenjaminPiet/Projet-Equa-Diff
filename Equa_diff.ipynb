{
 "cells": [
  {
   "cell_type": "markdown",
   "metadata": {},
   "source": [
    "# Projet équation différentielle\n",
    "\n"
   ]
  },
  {
   "cell_type": "markdown",
   "metadata": {},
   "source": [
    "### Methodes à pas fixe\n",
    "\n",
    "On commence tout d'abord par définir des méthodes à pas fixes, par les tester et par montrer leur ordre de convergence "
   ]
  },
  {
   "cell_type": "code",
   "execution_count": 3,
   "metadata": {},
   "outputs": [],
   "source": [
    "import numpy as np\n",
    "import matplotlib.pyplot as plt"
   ]
  },
  {
   "cell_type": "code",
   "execution_count": 4,
   "metadata": {},
   "outputs": [],
   "source": [
    "def solve_euler_explicit_v1(f,t0,tf,x0,dt):#t0 et tf temps de début et de fin de la simulation\n",
    "    X=x0#initialisation\n",
    "    t=t0\n",
    "    x_arr=[X]\n",
    "    t_arr=[t]#espace de stockage\n",
    "    while t<tf:\n",
    "        X=X+dt*f(X,t)\n",
    "        t=t+dt\n",
    "        x_arr.append(X)\n",
    "        t_arr.append(t)\n",
    "        return np.array(t_arr), np.array(x_arr)\n",
    "    \n",
    "    \n"
   ]
  },
  {
   "cell_type": "code",
   "execution_count": 5,
   "metadata": {},
   "outputs": [],
   "source": [
    "def solve_euler_explicit_v2(f,x0,dt,n) :\n",
    "    \"\"\"\n",
    "    Entrées :\n",
    "        f, une fonction\n",
    "        x0, condition initiale (x(0)=x0)\n",
    "        dt, pas de temps\n",
    "        n, nombre de points\n",
    "    Sortie :\n",
    "    renvoie le vecteur des temps tj et de la solution xj du schéma d'Euler explicite appliqué à dx/dt = f(x)\n",
    "    \"\"\"\n",
    "    T = np.linspace(0,dt*(n-1), n)\n",
    "    X = np.zeros(n)\n",
    "    X[0]=x0\n",
    "    for j in range(1,n) :\n",
    "        X[j] = X[j-1] + dt*f(X[j-1])\n",
    "    return(T,X)"
   ]
  },
  {
   "cell_type": "code",
   "execution_count": 6,
   "metadata": {},
   "outputs": [],
   "source": [
    "def solve_heun_explicit (f,x0,dt,n) :\n",
    "    \"\"\"\n",
    "    Entrées :\n",
    "        f, une fonction\n",
    "        x0, condition initiale (x(0)=x0)\n",
    "        dt, pas de temps\n",
    "        n, nombre de points\n",
    "    Sortie :\n",
    "    renvoie le vecteur des temps tj et de la solution xj du schéma de Heun explicite appliqué à dx/dt = f(x)\n",
    "    \"\"\"\n",
    "    T = np.linspace(0,dt*(n-1), n)\n",
    "    X = np.zeros(n)\n",
    "    X[0]=x0\n",
    "    for j in range(1,n) :\n",
    "        X[j] = X[j-1] + (dt/2) * ( f(X[j-1]) + f( X[j-1] + dt*f(X[j-1]) ) )\n",
    "    return(T,X)"
   ]
  },
  {
   "cell_type": "raw",
   "metadata": {},
   "source": [
    "On a ainsi defini deux fonction de résolution d'équation différentielle à pas fixe, l'une utilisant le schéma d'euler explicite, l'autre utilisant le schéma de Heun."
   ]
  },
  {
   "cell_type": "raw",
   "metadata": {},
   "source": [
    "On va maintenant illustrer ces deux schémas d'intégration et montrer leur convergence à l'ordre 1 pour euler et à l'ordre 2 pour Heun."
   ]
  },
  {
   "cell_type": "code",
   "execution_count": null,
   "metadata": {},
   "outputs": [],
   "source": [
    "#Pour euler explicite"
   ]
  },
  {
   "cell_type": "code",
   "execution_count": null,
   "metadata": {},
   "outputs": [],
   "source": []
  },
  {
   "cell_type": "code",
   "execution_count": 7,
   "metadata": {},
   "outputs": [
    {
     "data": {
      "image/png": "[encoded data removed]",
      "text/plain": [
       "<Figure size 432x288 with 1 Axes>"
      ]
     },
     "metadata": {
      "needs_background": "light"
     },
     "output_type": "display_data"
    }
   ],
   "source": [
    "def f1(x) :\n",
    "    return x\n",
    "\n",
    "n=5000\n",
    "x0=1\n",
    "dt=10**-2\n",
    "T,X1=solve_euler_explicit_v2(f1,x0,dt,n)\n",
    "T,X2=solve_heun_explicit(f1,x0,dt,n)\n",
    "Y = np.exp(T)\n",
    "plt.plot(T,X1,'r')\n",
    "plt.plot(T,X2,'g')\n",
    "plt.plot(T,Y,'b')\n",
    "\n",
    "\n",
    "plt.show()"
   ]
  },
  {
   "cell_type": "code",
   "execution_count": null,
   "metadata": {},
   "outputs": [],
   "source": [
    "def solve_ivp_euler_explicit_variable_step(f, t0, x0, t_f, dtmin = 1e-16, dtmax = 0.01, atol = 1e-6):\n",
    "    dt = dtmax/10; # initial integration step\n",
    "    ts, xs = [t0], [x0]  # storage variables\n",
    "    t = t0\n",
    "    ti = 0  # internal time keeping track of time since latest storage point : must remain below dtmax\n",
    "    x = x0\n",
    "    while ts[-1] < t_f:\n",
    "        while ti < dtmax:\n",
    "            t_next, ti_next, x_next = t + dt, ti + dt, x + dt * f(x)\n",
    "            x_back = x_next - dt * f(x_next)\n",
    "            ratio_abs_error = atol / (linalg.norm(x_back-x)/2)\n",
    "            dt = 0.9 * dt * sqrt(ratio_abs_error)\n",
    "            if dt < dtmin:\n",
    "                raise ValueError(\"Time step below minimum\")\n",
    "            elif dt > dtmax/2:\n",
    "                dt = dtmax/2\n",
    "            t, ti, x = t_next, ti_next, x_next\n",
    "        dt2DT = dtmax - ti # time left to dtmax\n",
    "        t_next, ti_next, x_next = t + dt2DT, 0, x + dt2DT * f(x)\n",
    "        ts = vstack([ts,t_next])\n",
    "        xs = vstack([xs,x_next])\n",
    "        t, ti, x = t_next, ti_next, x_next\n",
    "    return (ts, xs.T"
   ]
  }
 ],
 "metadata": {
  "kernelspec": {
   "display_name": "Python 3",
   "language": "python",
   "name": "python3"
  },
  "language_info": {
   "codemirror_mode": {
    "name": "ipython",
    "version": 3
   },
   "file_extension": ".py",
   "mimetype": "text/x-python",
   "name": "python",
   "nbconvert_exporter": "python",
   "pygments_lexer": "ipython3",
   "version": "3.7.3"
  }
 },
 "nbformat": 4,
 "nbformat_minor": 2
}
